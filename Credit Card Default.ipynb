{
 "cells": [
  {
   "cell_type": "code",
   "execution_count": 1,
   "id": "deecfa75",
   "metadata": {},
   "outputs": [],
   "source": [
    "# combine all the machine learning methods here and then export using joblib, test it and upload to heroku"
   ]
  },
  {
   "cell_type": "code",
   "execution_count": 2,
   "id": "42a18d7e",
   "metadata": {},
   "outputs": [],
   "source": [
    "import pandas as pd"
   ]
  },
  {
   "cell_type": "code",
   "execution_count": 3,
   "id": "80398f42",
   "metadata": {},
   "outputs": [],
   "source": [
    "df = pd.read_csv(\"D:/BC3409 AI In Accounting & Finance/Individual assignment/CreditCardDefault(balance).csv\")"
   ]
  },
  {
   "cell_type": "code",
   "execution_count": 4,
   "id": "50bc451b",
   "metadata": {
    "scrolled": false
   },
   "outputs": [
    {
     "name": "stdout",
     "output_type": "stream",
     "text": [
      "           income        age          loan  default\n",
      "0     66155.92510  59.017015   8106.532131        0\n",
      "1     34415.15397  48.117153   6564.745018        0\n",
      "2     57317.17006  63.108049   8020.953296        0\n",
      "3     42709.53420  45.751972   6103.642260        0\n",
      "4     66952.68885  18.584336   8770.099235        1\n",
      "...           ...        ...           ...      ...\n",
      "3423  60903.19173  21.933924  10367.081890        1\n",
      "3424  62235.64470  25.033016   8083.900063        1\n",
      "3425  25597.85059  26.350344   3810.110335        1\n",
      "3426  48164.19497  23.141976   6529.652892        1\n",
      "3427  33055.80863  26.289612   5351.851138        1\n",
      "\n",
      "[3428 rows x 4 columns]\n"
     ]
    }
   ],
   "source": [
    "print(df)"
   ]
  },
  {
   "cell_type": "code",
   "execution_count": 5,
   "id": "b6731600",
   "metadata": {},
   "outputs": [],
   "source": [
    "df = df.dropna()"
   ]
  },
  {
   "cell_type": "code",
   "execution_count": 6,
   "id": "147ed2a5",
   "metadata": {},
   "outputs": [],
   "source": [
    "for i in df.columns:\n",
    "    df1 = pd.to_numeric(df[i], errors='coerce')\n",
    "    df = df[df1.notnull()]"
   ]
  },
  {
   "cell_type": "code",
   "execution_count": 7,
   "id": "95300e66",
   "metadata": {},
   "outputs": [
    {
     "name": "stdout",
     "output_type": "stream",
     "text": [
      "           income        age          loan  default\n",
      "0     66155.92510  59.017015   8106.532131        0\n",
      "1     34415.15397  48.117153   6564.745018        0\n",
      "2     57317.17006  63.108049   8020.953296        0\n",
      "3     42709.53420  45.751972   6103.642260        0\n",
      "4     66952.68885  18.584336   8770.099235        1\n",
      "...           ...        ...           ...      ...\n",
      "3423  60903.19173  21.933924  10367.081890        1\n",
      "3424  62235.64470  25.033016   8083.900063        1\n",
      "3425  25597.85059  26.350344   3810.110335        1\n",
      "3426  48164.19497  23.141976   6529.652892        1\n",
      "3427  33055.80863  26.289612   5351.851138        1\n",
      "\n",
      "[3428 rows x 4 columns]\n"
     ]
    }
   ],
   "source": [
    "print(df)"
   ]
  },
  {
   "cell_type": "code",
   "execution_count": 8,
   "id": "bb46be39",
   "metadata": {
    "scrolled": true
   },
   "outputs": [
    {
     "data": {
      "text/html": [
       "<div>\n",
       "<style scoped>\n",
       "    .dataframe tbody tr th:only-of-type {\n",
       "        vertical-align: middle;\n",
       "    }\n",
       "\n",
       "    .dataframe tbody tr th {\n",
       "        vertical-align: top;\n",
       "    }\n",
       "\n",
       "    .dataframe thead th {\n",
       "        text-align: right;\n",
       "    }\n",
       "</style>\n",
       "<table border=\"1\" class=\"dataframe\">\n",
       "  <thead>\n",
       "    <tr style=\"text-align: right;\">\n",
       "      <th></th>\n",
       "      <th>income</th>\n",
       "      <th>age</th>\n",
       "      <th>loan</th>\n",
       "      <th>default</th>\n",
       "    </tr>\n",
       "  </thead>\n",
       "  <tbody>\n",
       "    <tr>\n",
       "      <th>income</th>\n",
       "      <td>1.000000</td>\n",
       "      <td>-0.028192</td>\n",
       "      <td>0.556173</td>\n",
       "      <td>-0.012761</td>\n",
       "    </tr>\n",
       "    <tr>\n",
       "      <th>age</th>\n",
       "      <td>-0.028192</td>\n",
       "      <td>1.000000</td>\n",
       "      <td>-0.247657</td>\n",
       "      <td>-0.653537</td>\n",
       "    </tr>\n",
       "    <tr>\n",
       "      <th>loan</th>\n",
       "      <td>0.556173</td>\n",
       "      <td>-0.247657</td>\n",
       "      <td>1.000000</td>\n",
       "      <td>0.508285</td>\n",
       "    </tr>\n",
       "    <tr>\n",
       "      <th>default</th>\n",
       "      <td>-0.012761</td>\n",
       "      <td>-0.653537</td>\n",
       "      <td>0.508285</td>\n",
       "      <td>1.000000</td>\n",
       "    </tr>\n",
       "  </tbody>\n",
       "</table>\n",
       "</div>"
      ],
      "text/plain": [
       "           income       age      loan   default\n",
       "income   1.000000 -0.028192  0.556173 -0.012761\n",
       "age     -0.028192  1.000000 -0.247657 -0.653537\n",
       "loan     0.556173 -0.247657  1.000000  0.508285\n",
       "default -0.012761 -0.653537  0.508285  1.000000"
      ]
     },
     "execution_count": 8,
     "metadata": {},
     "output_type": "execute_result"
    }
   ],
   "source": [
    "df.corr()"
   ]
  },
  {
   "cell_type": "code",
   "execution_count": 9,
   "id": "021bebb9",
   "metadata": {},
   "outputs": [],
   "source": [
    "y = df.loc[:,[\"default\"]]\n",
    "x = df.loc[:,[\"income\", \"age\", \"loan\"]]"
   ]
  },
  {
   "cell_type": "code",
   "execution_count": 10,
   "id": "1111c002",
   "metadata": {
    "scrolled": true
   },
   "outputs": [
    {
     "name": "stdout",
     "output_type": "stream",
     "text": [
      "           income        age          loan  default\n",
      "0     66155.92510  59.017015   8106.532131        0\n",
      "1     34415.15397  48.117153   6564.745018        0\n",
      "2     57317.17006  63.108049   8020.953296        0\n",
      "3     42709.53420  45.751972   6103.642260        0\n",
      "4     66952.68885  18.584336   8770.099235        1\n",
      "...           ...        ...           ...      ...\n",
      "3423  60903.19173  21.933924  10367.081890        1\n",
      "3424  62235.64470  25.033016   8083.900063        1\n",
      "3425  25597.85059  26.350344   3810.110335        1\n",
      "3426  48164.19497  23.141976   6529.652892        1\n",
      "3427  33055.80863  26.289612   5351.851138        1\n",
      "\n",
      "[3428 rows x 4 columns]\n"
     ]
    }
   ],
   "source": [
    "print(df)"
   ]
  },
  {
   "cell_type": "code",
   "execution_count": 11,
   "id": "1f082808",
   "metadata": {},
   "outputs": [],
   "source": [
    "from scipy import stats\n",
    "import numpy as np"
   ]
  },
  {
   "cell_type": "code",
   "execution_count": 12,
   "id": "51ca85a6",
   "metadata": {
    "scrolled": true
   },
   "outputs": [],
   "source": [
    "# Normalisation"
   ]
  },
  {
   "cell_type": "code",
   "execution_count": 13,
   "id": "07a9803b",
   "metadata": {},
   "outputs": [],
   "source": [
    "from sklearn import preprocessing"
   ]
  },
  {
   "cell_type": "code",
   "execution_count": 14,
   "id": "df105b31",
   "metadata": {},
   "outputs": [],
   "source": [
    "scaler = preprocessing.MinMaxScaler()"
   ]
  },
  {
   "cell_type": "code",
   "execution_count": 15,
   "id": "224f60e9",
   "metadata": {},
   "outputs": [],
   "source": [
    "name = df.columns"
   ]
  },
  {
   "cell_type": "code",
   "execution_count": 16,
   "id": "1ec6dcd5",
   "metadata": {},
   "outputs": [],
   "source": [
    "d = scaler.fit_transform(df)"
   ]
  },
  {
   "cell_type": "code",
   "execution_count": 17,
   "id": "25b681d6",
   "metadata": {},
   "outputs": [],
   "source": [
    "df = pd.DataFrame(d, columns = name)"
   ]
  },
  {
   "cell_type": "code",
   "execution_count": 18,
   "id": "3f8da622",
   "metadata": {},
   "outputs": [
    {
     "name": "stdout",
     "output_type": "stream",
     "text": [
      "        income       age      loan  default\n",
      "0     0.923176  0.957431  0.588837      0.0\n",
      "1     0.288122  0.863786  0.476827      0.0\n",
      "2     0.746334  0.992579  0.582620      0.0\n",
      "3     0.454072  0.843466  0.443328      0.0\n",
      "4     0.939117  0.610057  0.637045      1.0\n",
      "...        ...       ...       ...      ...\n",
      "3423  0.818082  0.638835  0.753066      1.0\n",
      "3424  0.844741  0.665460  0.587193      1.0\n",
      "3425  0.111709  0.676778  0.276703      1.0\n",
      "3426  0.563206  0.649214  0.474278      1.0\n",
      "3427  0.260925  0.676256  0.388711      1.0\n",
      "\n",
      "[3428 rows x 4 columns]\n"
     ]
    }
   ],
   "source": [
    "print(df)"
   ]
  },
  {
   "cell_type": "code",
   "execution_count": 19,
   "id": "987f4b94",
   "metadata": {},
   "outputs": [],
   "source": [
    "# Categorical Input"
   ]
  },
  {
   "cell_type": "code",
   "execution_count": 20,
   "id": "bd50956a",
   "metadata": {},
   "outputs": [],
   "source": [
    "df['default'] = df.default.astype('category')"
   ]
  },
  {
   "cell_type": "code",
   "execution_count": 21,
   "id": "95ba8cfa",
   "metadata": {},
   "outputs": [],
   "source": [
    "# Logistic Regression"
   ]
  },
  {
   "cell_type": "code",
   "execution_count": 22,
   "id": "ad0f177e",
   "metadata": {},
   "outputs": [],
   "source": [
    "from sklearn import linear_model"
   ]
  },
  {
   "cell_type": "code",
   "execution_count": 23,
   "id": "4ac7575e",
   "metadata": {},
   "outputs": [],
   "source": [
    "from sklearn.model_selection import train_test_split"
   ]
  },
  {
   "cell_type": "code",
   "execution_count": 24,
   "id": "60155d91",
   "metadata": {},
   "outputs": [],
   "source": [
    "x_train, x_test, y_train, y_test = train_test_split(x,y, test_size=0.3)"
   ]
  },
  {
   "cell_type": "code",
   "execution_count": 25,
   "id": "ffe6f7c1",
   "metadata": {},
   "outputs": [],
   "source": [
    "model = linear_model.LogisticRegression()"
   ]
  },
  {
   "cell_type": "code",
   "execution_count": 26,
   "id": "15b63875",
   "metadata": {},
   "outputs": [
    {
     "name": "stderr",
     "output_type": "stream",
     "text": [
      "C:\\Users\\hahang\\anaconda3\\lib\\site-packages\\sklearn\\utils\\validation.py:63: DataConversionWarning: A column-vector y was passed when a 1d array was expected. Please change the shape of y to (n_samples, ), for example using ravel().\n",
      "  return f(*args, **kwargs)\n"
     ]
    },
    {
     "data": {
      "text/plain": [
       "LogisticRegression()"
      ]
     },
     "execution_count": 26,
     "metadata": {},
     "output_type": "execute_result"
    }
   ],
   "source": [
    "model.fit(x_train,y_train)"
   ]
  },
  {
   "cell_type": "code",
   "execution_count": 27,
   "id": "cb02329e",
   "metadata": {},
   "outputs": [],
   "source": [
    "pred = model.predict(x_train)"
   ]
  },
  {
   "cell_type": "code",
   "execution_count": 28,
   "id": "462a9d99",
   "metadata": {},
   "outputs": [],
   "source": [
    "from sklearn.metrics import confusion_matrix"
   ]
  },
  {
   "cell_type": "code",
   "execution_count": 29,
   "id": "d1b58931",
   "metadata": {},
   "outputs": [],
   "source": [
    "cm = confusion_matrix(y_train, pred)"
   ]
  },
  {
   "cell_type": "code",
   "execution_count": 30,
   "id": "68b1b763",
   "metadata": {},
   "outputs": [
    {
     "name": "stdout",
     "output_type": "stream",
     "text": [
      "[[1036  136]\n",
      " [ 208 1019]]\n"
     ]
    }
   ],
   "source": [
    "print(cm)"
   ]
  },
  {
   "cell_type": "code",
   "execution_count": 31,
   "id": "7cd3dd5d",
   "metadata": {},
   "outputs": [],
   "source": [
    "accuracy = (cm[0,0] + cm[1,1])/sum(sum(cm))"
   ]
  },
  {
   "cell_type": "code",
   "execution_count": 32,
   "id": "195a09db",
   "metadata": {},
   "outputs": [
    {
     "name": "stdout",
     "output_type": "stream",
     "text": [
      "0.8566069195498124\n"
     ]
    }
   ],
   "source": [
    "print(accuracy)"
   ]
  },
  {
   "cell_type": "code",
   "execution_count": 33,
   "id": "45f5e850",
   "metadata": {},
   "outputs": [],
   "source": [
    "pred = model.predict(x_test)"
   ]
  },
  {
   "cell_type": "code",
   "execution_count": 34,
   "id": "0f894d84",
   "metadata": {},
   "outputs": [],
   "source": [
    "cm = confusion_matrix(y_test, pred)"
   ]
  },
  {
   "cell_type": "code",
   "execution_count": 35,
   "id": "7cde059e",
   "metadata": {},
   "outputs": [
    {
     "name": "stdout",
     "output_type": "stream",
     "text": [
      "[[468  74]\n",
      " [ 77 410]]\n"
     ]
    }
   ],
   "source": [
    "print(cm)"
   ]
  },
  {
   "cell_type": "code",
   "execution_count": 36,
   "id": "5cac807d",
   "metadata": {},
   "outputs": [],
   "source": [
    "accuracy1 = (cm[0,0] + cm[1,1])/sum(sum(cm))"
   ]
  },
  {
   "cell_type": "code",
   "execution_count": 37,
   "id": "e52e0959",
   "metadata": {},
   "outputs": [
    {
     "name": "stdout",
     "output_type": "stream",
     "text": [
      "0.8532555879494655\n"
     ]
    }
   ],
   "source": [
    "print(accuracy1)"
   ]
  },
  {
   "cell_type": "code",
   "execution_count": 38,
   "id": "7e9ed759",
   "metadata": {},
   "outputs": [],
   "source": [
    "# Decision Tree"
   ]
  },
  {
   "cell_type": "code",
   "execution_count": 39,
   "id": "ffebc56b",
   "metadata": {},
   "outputs": [],
   "source": [
    "from sklearn import tree"
   ]
  },
  {
   "cell_type": "code",
   "execution_count": 40,
   "id": "f051a133",
   "metadata": {},
   "outputs": [],
   "source": [
    "model = tree.DecisionTreeClassifier(max_depth=8)"
   ]
  },
  {
   "cell_type": "code",
   "execution_count": 41,
   "id": "13a3d4f6",
   "metadata": {},
   "outputs": [
    {
     "data": {
      "text/plain": [
       "DecisionTreeClassifier(max_depth=8)"
      ]
     },
     "execution_count": 41,
     "metadata": {},
     "output_type": "execute_result"
    }
   ],
   "source": [
    "model.fit(x_train, y_train)"
   ]
  },
  {
   "cell_type": "code",
   "execution_count": 42,
   "id": "9a269f46",
   "metadata": {},
   "outputs": [],
   "source": [
    "pred = model.predict(x_test)"
   ]
  },
  {
   "cell_type": "code",
   "execution_count": 43,
   "id": "0d5303e1",
   "metadata": {},
   "outputs": [],
   "source": [
    "cm = confusion_matrix(y_test, pred)"
   ]
  },
  {
   "cell_type": "code",
   "execution_count": 44,
   "id": "3bec6b53",
   "metadata": {},
   "outputs": [
    {
     "name": "stdout",
     "output_type": "stream",
     "text": [
      "[[535   7]\n",
      " [  5 482]]\n"
     ]
    }
   ],
   "source": [
    "print(cm)"
   ]
  },
  {
   "cell_type": "code",
   "execution_count": 45,
   "id": "316c3b16",
   "metadata": {},
   "outputs": [],
   "source": [
    "accuracy2 = (cm[0,0] + cm[1,1])/sum(sum(cm))"
   ]
  },
  {
   "cell_type": "code",
   "execution_count": 46,
   "id": "2f7b8e69",
   "metadata": {},
   "outputs": [
    {
     "name": "stdout",
     "output_type": "stream",
     "text": [
      "0.9883381924198251\n"
     ]
    }
   ],
   "source": [
    "print(accuracy2)"
   ]
  },
  {
   "cell_type": "code",
   "execution_count": 47,
   "id": "8d65b385",
   "metadata": {},
   "outputs": [],
   "source": [
    "x_train1, x_test1, y_train1, y_test1 = train_test_split(x_train,y_train)"
   ]
  },
  {
   "cell_type": "code",
   "execution_count": 48,
   "id": "52598aad",
   "metadata": {},
   "outputs": [
    {
     "name": "stdout",
     "output_type": "stream",
     "text": [
      "1\n",
      "0.845\n",
      "========================\n",
      "2\n",
      "0.9233333333333333\n",
      "========================\n",
      "3\n",
      "0.925\n",
      "========================\n",
      "4\n",
      "0.965\n",
      "========================\n",
      "5\n",
      "0.9783333333333334\n",
      "========================\n",
      "6\n",
      "0.98\n",
      "========================\n",
      "7\n",
      "0.9833333333333333\n",
      "========================\n",
      "8\n",
      "0.985\n",
      "========================\n",
      "9\n",
      "0.9833333333333333\n",
      "========================\n",
      "10\n",
      "0.9833333333333333\n",
      "========================\n",
      "11\n",
      "0.9816666666666667\n",
      "========================\n",
      "12\n",
      "0.9833333333333333\n",
      "========================\n",
      "13\n",
      "0.9816666666666667\n",
      "========================\n",
      "14\n",
      "0.9833333333333333\n",
      "========================\n",
      "15\n",
      "0.98\n",
      "========================\n",
      "16\n",
      "0.9833333333333333\n",
      "========================\n",
      "17\n",
      "0.9816666666666667\n",
      "========================\n",
      "18\n",
      "0.9816666666666667\n",
      "========================\n",
      "19\n",
      "0.9816666666666667\n",
      "========================\n",
      "20\n",
      "0.9833333333333333\n",
      "========================\n"
     ]
    }
   ],
   "source": [
    "for i in range (20):\n",
    "    model = tree.DecisionTreeClassifier(max_depth=i+1)\n",
    "    model.fit(x_train1, y_train1)\n",
    "    pred = model.predict(x_test1)\n",
    "    cm = confusion_matrix(y_test1, pred)\n",
    "    accuracy3 = (cm[0,0] + cm[1,1])/(sum(sum(cm)))\n",
    "    print(i+1)\n",
    "    print(accuracy3)\n",
    "    print(\"========================\")"
   ]
  },
  {
   "cell_type": "code",
   "execution_count": 49,
   "id": "ace37536",
   "metadata": {},
   "outputs": [],
   "source": [
    "from sklearn.model_selection import GridSearchCV"
   ]
  },
  {
   "cell_type": "code",
   "execution_count": 50,
   "id": "6e380b2a",
   "metadata": {},
   "outputs": [],
   "source": [
    "model = tree.DecisionTreeClassifier()"
   ]
  },
  {
   "cell_type": "code",
   "execution_count": 51,
   "id": "f3aaf83c",
   "metadata": {},
   "outputs": [],
   "source": [
    "g = GridSearchCV(estimator=model, param_grid=dict(max_depth = [i for i in range(1,20)]))"
   ]
  },
  {
   "cell_type": "code",
   "execution_count": 52,
   "id": "42797637",
   "metadata": {},
   "outputs": [],
   "source": [
    "g = g.fit(x_train,y_train)"
   ]
  },
  {
   "cell_type": "code",
   "execution_count": 53,
   "id": "0b0e50f8",
   "metadata": {},
   "outputs": [
    {
     "data": {
      "text/plain": [
       "{'max_depth': 11}"
      ]
     },
     "execution_count": 53,
     "metadata": {},
     "output_type": "execute_result"
    }
   ],
   "source": [
    "g.best_params_"
   ]
  },
  {
   "cell_type": "code",
   "execution_count": 54,
   "id": "331bde2c",
   "metadata": {},
   "outputs": [],
   "source": [
    "h = GridSearchCV(estimator=model, param_grid=dict(min_samples_split = [i for i in range(1,20)]))"
   ]
  },
  {
   "cell_type": "code",
   "execution_count": 55,
   "id": "03257f7e",
   "metadata": {},
   "outputs": [
    {
     "name": "stderr",
     "output_type": "stream",
     "text": [
      "C:\\Users\\hahang\\anaconda3\\lib\\site-packages\\sklearn\\model_selection\\_validation.py:615: FitFailedWarning: Estimator fit failed. The score on this train-test partition for these parameters will be set to nan. Details: \n",
      "Traceback (most recent call last):\n",
      "  File \"C:\\Users\\hahang\\anaconda3\\lib\\site-packages\\sklearn\\model_selection\\_validation.py\", line 598, in _fit_and_score\n",
      "    estimator.fit(X_train, y_train, **fit_params)\n",
      "  File \"C:\\Users\\hahang\\anaconda3\\lib\\site-packages\\sklearn\\tree\\_classes.py\", line 903, in fit\n",
      "    super().fit(\n",
      "  File \"C:\\Users\\hahang\\anaconda3\\lib\\site-packages\\sklearn\\tree\\_classes.py\", line 238, in fit\n",
      "    raise ValueError(\"min_samples_split must be an integer \"\n",
      "ValueError: min_samples_split must be an integer greater than 1 or a float in (0.0, 1.0]; got the integer 1\n",
      "\n",
      "  warnings.warn(\"Estimator fit failed. The score on this train-test\"\n",
      "C:\\Users\\hahang\\anaconda3\\lib\\site-packages\\sklearn\\model_selection\\_validation.py:615: FitFailedWarning: Estimator fit failed. The score on this train-test partition for these parameters will be set to nan. Details: \n",
      "Traceback (most recent call last):\n",
      "  File \"C:\\Users\\hahang\\anaconda3\\lib\\site-packages\\sklearn\\model_selection\\_validation.py\", line 598, in _fit_and_score\n",
      "    estimator.fit(X_train, y_train, **fit_params)\n",
      "  File \"C:\\Users\\hahang\\anaconda3\\lib\\site-packages\\sklearn\\tree\\_classes.py\", line 903, in fit\n",
      "    super().fit(\n",
      "  File \"C:\\Users\\hahang\\anaconda3\\lib\\site-packages\\sklearn\\tree\\_classes.py\", line 238, in fit\n",
      "    raise ValueError(\"min_samples_split must be an integer \"\n",
      "ValueError: min_samples_split must be an integer greater than 1 or a float in (0.0, 1.0]; got the integer 1\n",
      "\n",
      "  warnings.warn(\"Estimator fit failed. The score on this train-test\"\n",
      "C:\\Users\\hahang\\anaconda3\\lib\\site-packages\\sklearn\\model_selection\\_validation.py:615: FitFailedWarning: Estimator fit failed. The score on this train-test partition for these parameters will be set to nan. Details: \n",
      "Traceback (most recent call last):\n",
      "  File \"C:\\Users\\hahang\\anaconda3\\lib\\site-packages\\sklearn\\model_selection\\_validation.py\", line 598, in _fit_and_score\n",
      "    estimator.fit(X_train, y_train, **fit_params)\n",
      "  File \"C:\\Users\\hahang\\anaconda3\\lib\\site-packages\\sklearn\\tree\\_classes.py\", line 903, in fit\n",
      "    super().fit(\n",
      "  File \"C:\\Users\\hahang\\anaconda3\\lib\\site-packages\\sklearn\\tree\\_classes.py\", line 238, in fit\n",
      "    raise ValueError(\"min_samples_split must be an integer \"\n",
      "ValueError: min_samples_split must be an integer greater than 1 or a float in (0.0, 1.0]; got the integer 1\n",
      "\n",
      "  warnings.warn(\"Estimator fit failed. The score on this train-test\"\n",
      "C:\\Users\\hahang\\anaconda3\\lib\\site-packages\\sklearn\\model_selection\\_validation.py:615: FitFailedWarning: Estimator fit failed. The score on this train-test partition for these parameters will be set to nan. Details: \n",
      "Traceback (most recent call last):\n",
      "  File \"C:\\Users\\hahang\\anaconda3\\lib\\site-packages\\sklearn\\model_selection\\_validation.py\", line 598, in _fit_and_score\n",
      "    estimator.fit(X_train, y_train, **fit_params)\n",
      "  File \"C:\\Users\\hahang\\anaconda3\\lib\\site-packages\\sklearn\\tree\\_classes.py\", line 903, in fit\n",
      "    super().fit(\n",
      "  File \"C:\\Users\\hahang\\anaconda3\\lib\\site-packages\\sklearn\\tree\\_classes.py\", line 238, in fit\n",
      "    raise ValueError(\"min_samples_split must be an integer \"\n",
      "ValueError: min_samples_split must be an integer greater than 1 or a float in (0.0, 1.0]; got the integer 1\n",
      "\n",
      "  warnings.warn(\"Estimator fit failed. The score on this train-test\"\n",
      "C:\\Users\\hahang\\anaconda3\\lib\\site-packages\\sklearn\\model_selection\\_validation.py:615: FitFailedWarning: Estimator fit failed. The score on this train-test partition for these parameters will be set to nan. Details: \n",
      "Traceback (most recent call last):\n",
      "  File \"C:\\Users\\hahang\\anaconda3\\lib\\site-packages\\sklearn\\model_selection\\_validation.py\", line 598, in _fit_and_score\n",
      "    estimator.fit(X_train, y_train, **fit_params)\n",
      "  File \"C:\\Users\\hahang\\anaconda3\\lib\\site-packages\\sklearn\\tree\\_classes.py\", line 903, in fit\n",
      "    super().fit(\n",
      "  File \"C:\\Users\\hahang\\anaconda3\\lib\\site-packages\\sklearn\\tree\\_classes.py\", line 238, in fit\n",
      "    raise ValueError(\"min_samples_split must be an integer \"\n",
      "ValueError: min_samples_split must be an integer greater than 1 or a float in (0.0, 1.0]; got the integer 1\n",
      "\n",
      "  warnings.warn(\"Estimator fit failed. The score on this train-test\"\n",
      "C:\\Users\\hahang\\anaconda3\\lib\\site-packages\\sklearn\\model_selection\\_search.py:922: UserWarning: One or more of the test scores are non-finite: [       nan 0.98624304 0.98665971 0.98707637 0.98624304 0.98665971\n",
      " 0.98582637 0.98582637 0.98624304 0.98540971 0.98540971 0.98624304\n",
      " 0.98540971 0.98540971 0.98499304 0.98415971 0.98415971 0.98415971\n",
      " 0.98415971]\n",
      "  warnings.warn(\n"
     ]
    }
   ],
   "source": [
    "h = h.fit(x_train,y_train)"
   ]
  },
  {
   "cell_type": "code",
   "execution_count": 56,
   "id": "4b492bcc",
   "metadata": {},
   "outputs": [
    {
     "data": {
      "text/plain": [
       "{'min_samples_split': 4}"
      ]
     },
     "execution_count": 56,
     "metadata": {},
     "output_type": "execute_result"
    }
   ],
   "source": [
    "h.best_params_"
   ]
  },
  {
   "cell_type": "code",
   "execution_count": 57,
   "id": "0922ce1e",
   "metadata": {},
   "outputs": [
    {
     "data": {
      "text/plain": [
       "DecisionTreeClassifier()"
      ]
     },
     "execution_count": 57,
     "metadata": {},
     "output_type": "execute_result"
    }
   ],
   "source": [
    "model = tree.DecisionTreeClassifier(min_samples_split=2)\n",
    "model.fit(x_train,y_train)"
   ]
  },
  {
   "cell_type": "code",
   "execution_count": 58,
   "id": "da795306",
   "metadata": {},
   "outputs": [],
   "source": [
    "pred = model.predict(x_test)"
   ]
  },
  {
   "cell_type": "code",
   "execution_count": 59,
   "id": "fdf7f4ed",
   "metadata": {},
   "outputs": [],
   "source": [
    "cm = confusion_matrix(y_test,pred)"
   ]
  },
  {
   "cell_type": "code",
   "execution_count": 60,
   "id": "bc5a87f4",
   "metadata": {},
   "outputs": [
    {
     "name": "stdout",
     "output_type": "stream",
     "text": [
      "[0 1 1 ... 1 1 0]\n"
     ]
    }
   ],
   "source": [
    "print(pred)"
   ]
  },
  {
   "cell_type": "code",
   "execution_count": 61,
   "id": "87abdd53",
   "metadata": {},
   "outputs": [
    {
     "name": "stdout",
     "output_type": "stream",
     "text": [
      "[[535   7]\n",
      " [  5 482]]\n"
     ]
    }
   ],
   "source": [
    "print(cm)"
   ]
  },
  {
   "cell_type": "code",
   "execution_count": 62,
   "id": "20bda627",
   "metadata": {},
   "outputs": [
    {
     "name": "stdout",
     "output_type": "stream",
     "text": [
      "0.9883381924198251\n"
     ]
    }
   ],
   "source": [
    "accuracy4 = (cm[0,0] + cm[1,1])/(sum(sum(cm)))\n",
    "print(accuracy4)"
   ]
  },
  {
   "cell_type": "code",
   "execution_count": 63,
   "id": "63ff772e",
   "metadata": {},
   "outputs": [],
   "source": [
    "# Random Forest"
   ]
  },
  {
   "cell_type": "code",
   "execution_count": 64,
   "id": "940afd4b",
   "metadata": {},
   "outputs": [],
   "source": [
    "from sklearn import ensemble\n",
    "model = ensemble.RandomForestClassifier()"
   ]
  },
  {
   "cell_type": "code",
   "execution_count": 65,
   "id": "3cf59f52",
   "metadata": {},
   "outputs": [
    {
     "name": "stderr",
     "output_type": "stream",
     "text": [
      "C:\\Users\\hahang\\AppData\\Local\\Temp/ipykernel_7076/940050797.py:1: DataConversionWarning: A column-vector y was passed when a 1d array was expected. Please change the shape of y to (n_samples,), for example using ravel().\n",
      "  model.fit(x_train, y_train)\n"
     ]
    },
    {
     "data": {
      "text/plain": [
       "RandomForestClassifier()"
      ]
     },
     "execution_count": 65,
     "metadata": {},
     "output_type": "execute_result"
    }
   ],
   "source": [
    "model.fit(x_train, y_train)"
   ]
  },
  {
   "cell_type": "code",
   "execution_count": 66,
   "id": "ac2304fc",
   "metadata": {},
   "outputs": [],
   "source": [
    "pred = model.predict(x_test)"
   ]
  },
  {
   "cell_type": "code",
   "execution_count": 67,
   "id": "873e9342",
   "metadata": {},
   "outputs": [],
   "source": [
    "cm = confusion_matrix(y_test, pred)"
   ]
  },
  {
   "cell_type": "code",
   "execution_count": 68,
   "id": "5196b14a",
   "metadata": {},
   "outputs": [
    {
     "name": "stdout",
     "output_type": "stream",
     "text": [
      "[0 1 1 ... 1 1 0]\n"
     ]
    }
   ],
   "source": [
    "print(pred)"
   ]
  },
  {
   "cell_type": "code",
   "execution_count": 69,
   "id": "a2b2f3be",
   "metadata": {},
   "outputs": [
    {
     "name": "stdout",
     "output_type": "stream",
     "text": [
      "[[536   6]\n",
      " [  2 485]]\n"
     ]
    }
   ],
   "source": [
    "print(cm)"
   ]
  },
  {
   "cell_type": "code",
   "execution_count": 70,
   "id": "b5f5851c",
   "metadata": {},
   "outputs": [
    {
     "name": "stdout",
     "output_type": "stream",
     "text": [
      "0.9922254616132167\n"
     ]
    }
   ],
   "source": [
    "accuracy5 = (cm[0,0] + cm[1,1])/(sum(sum(cm)))\n",
    "print(accuracy5)"
   ]
  },
  {
   "cell_type": "code",
   "execution_count": 71,
   "id": "3afa28f5",
   "metadata": {},
   "outputs": [],
   "source": [
    "# XGBoost"
   ]
  },
  {
   "cell_type": "code",
   "execution_count": 72,
   "id": "40a19fd2",
   "metadata": {},
   "outputs": [
    {
     "name": "stderr",
     "output_type": "stream",
     "text": [
      "C:\\Users\\hahang\\anaconda3\\lib\\site-packages\\sklearn\\utils\\validation.py:63: DataConversionWarning: A column-vector y was passed when a 1d array was expected. Please change the shape of y to (n_samples, ), for example using ravel().\n",
      "  return f(*args, **kwargs)\n"
     ]
    },
    {
     "data": {
      "text/plain": [
       "GradientBoostingClassifier()"
      ]
     },
     "execution_count": 72,
     "metadata": {},
     "output_type": "execute_result"
    }
   ],
   "source": [
    "model = ensemble.GradientBoostingClassifier()\n",
    "model.fit(x_train, y_train)"
   ]
  },
  {
   "cell_type": "code",
   "execution_count": 73,
   "id": "34b6bf7b",
   "metadata": {},
   "outputs": [],
   "source": [
    "pred = model.predict(x_test)\n",
    "cm = confusion_matrix(y_test, pred)"
   ]
  },
  {
   "cell_type": "code",
   "execution_count": 74,
   "id": "14c68016",
   "metadata": {},
   "outputs": [
    {
     "name": "stdout",
     "output_type": "stream",
     "text": [
      "[0 1 1 ... 1 1 0]\n"
     ]
    }
   ],
   "source": [
    "print(pred)"
   ]
  },
  {
   "cell_type": "code",
   "execution_count": 75,
   "id": "9b3ec12f",
   "metadata": {},
   "outputs": [
    {
     "name": "stdout",
     "output_type": "stream",
     "text": [
      "[[533   9]\n",
      " [  2 485]]\n"
     ]
    }
   ],
   "source": [
    "print(cm)"
   ]
  },
  {
   "cell_type": "code",
   "execution_count": 76,
   "id": "14b51abf",
   "metadata": {},
   "outputs": [
    {
     "name": "stdout",
     "output_type": "stream",
     "text": [
      "0.989310009718173\n"
     ]
    }
   ],
   "source": [
    "accuracy6 = (cm[0,0] + cm[1,1])/(sum(sum(cm)))\n",
    "print(accuracy6)"
   ]
  },
  {
   "cell_type": "code",
   "execution_count": 77,
   "id": "8a982c72",
   "metadata": {},
   "outputs": [],
   "source": [
    "# Neural Network"
   ]
  },
  {
   "cell_type": "code",
   "execution_count": 78,
   "id": "0670eba7",
   "metadata": {},
   "outputs": [],
   "source": [
    "from sklearn.neural_network import MLPClassifier"
   ]
  },
  {
   "cell_type": "code",
   "execution_count": 79,
   "id": "11b4bf02",
   "metadata": {},
   "outputs": [],
   "source": [
    "# model works up to this point"
   ]
  },
  {
   "cell_type": "code",
   "execution_count": 80,
   "id": "28a2376c",
   "metadata": {},
   "outputs": [
    {
     "name": "stderr",
     "output_type": "stream",
     "text": [
      "C:\\Users\\hahang\\anaconda3\\lib\\site-packages\\sklearn\\utils\\validation.py:63: DataConversionWarning: A column-vector y was passed when a 1d array was expected. Please change the shape of y to (n_samples, ), for example using ravel().\n",
      "  return f(*args, **kwargs)\n",
      "C:\\Users\\hahang\\anaconda3\\lib\\site-packages\\sklearn\\neural_network\\_multilayer_perceptron.py:500: ConvergenceWarning: lbfgs failed to converge (status=2):\n",
      "ABNORMAL_TERMINATION_IN_LNSRCH.\n",
      "\n",
      "Increase the number of iterations (max_iter) or scale the data as shown in:\n",
      "    https://scikit-learn.org/stable/modules/preprocessing.html\n",
      "  self.n_iter_ = _check_optimize_result(\"lbfgs\", opt_res, self.max_iter)\n"
     ]
    }
   ],
   "source": [
    "model = MLPClassifier(solver='lbfgs', random_state=0, hidden_layer_sizes=(7,7)).fit(x,y)"
   ]
  },
  {
   "cell_type": "code",
   "execution_count": 81,
   "id": "2e0c02a8",
   "metadata": {},
   "outputs": [],
   "source": [
    "# number of hidden layer is random"
   ]
  },
  {
   "cell_type": "code",
   "execution_count": 82,
   "id": "05bef7ea",
   "metadata": {},
   "outputs": [],
   "source": [
    "pred = model.predict(x)"
   ]
  },
  {
   "cell_type": "code",
   "execution_count": 83,
   "id": "976238d5",
   "metadata": {},
   "outputs": [
    {
     "name": "stdout",
     "output_type": "stream",
     "text": [
      "[0 1 1 ... 1 1 1]\n"
     ]
    }
   ],
   "source": [
    "print(pred)"
   ]
  },
  {
   "cell_type": "code",
   "execution_count": 84,
   "id": "57c67019",
   "metadata": {},
   "outputs": [],
   "source": [
    "cm = confusion_matrix(y, pred)"
   ]
  },
  {
   "cell_type": "code",
   "execution_count": 85,
   "id": "87f78e95",
   "metadata": {},
   "outputs": [
    {
     "name": "stdout",
     "output_type": "stream",
     "text": [
      "[[1261  453]\n",
      " [  41 1673]]\n"
     ]
    }
   ],
   "source": [
    "print(cm)"
   ]
  },
  {
   "cell_type": "code",
   "execution_count": 86,
   "id": "e08932d1",
   "metadata": {},
   "outputs": [
    {
     "name": "stdout",
     "output_type": "stream",
     "text": [
      "0.8558926487747958\n"
     ]
    }
   ],
   "source": [
    "accuracy7 = (cm[0,0] + cm[1,1])/(sum(sum(cm)))\n",
    "print(accuracy7)"
   ]
  },
  {
   "cell_type": "code",
   "execution_count": 87,
   "id": "d53a3154",
   "metadata": {},
   "outputs": [],
   "source": [
    "# export model"
   ]
  },
  {
   "cell_type": "code",
   "execution_count": 88,
   "id": "c4965d52",
   "metadata": {},
   "outputs": [],
   "source": [
    "import joblib"
   ]
  },
  {
   "cell_type": "code",
   "execution_count": 89,
   "id": "6030a376",
   "metadata": {},
   "outputs": [
    {
     "data": {
      "text/plain": [
       "['Default Probability']"
      ]
     },
     "execution_count": 89,
     "metadata": {},
     "output_type": "execute_result"
    }
   ],
   "source": [
    "joblib.dump(model, \"Default Probability\")"
   ]
  },
  {
   "cell_type": "code",
   "execution_count": null,
   "id": "99458b47",
   "metadata": {},
   "outputs": [],
   "source": []
  }
 ],
 "metadata": {
  "kernelspec": {
   "display_name": "Python 3 (ipykernel)",
   "language": "python",
   "name": "python3"
  },
  "language_info": {
   "codemirror_mode": {
    "name": "ipython",
    "version": 3
   },
   "file_extension": ".py",
   "mimetype": "text/x-python",
   "name": "python",
   "nbconvert_exporter": "python",
   "pygments_lexer": "ipython3",
   "version": "3.9.7"
  }
 },
 "nbformat": 4,
 "nbformat_minor": 5
}
